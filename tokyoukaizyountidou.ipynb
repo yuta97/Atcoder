{
 "cells": [
  {
   "cell_type": "code",
   "execution_count": null,
   "metadata": {},
   "outputs": [],
   "source": []
  },
  {
   "cell_type": "code",
   "execution_count": 4,
   "metadata": {},
   "outputs": [
    {
     "name": "stdout",
     "output_type": "stream",
     "text": [
      "naohiro\n",
      "nao\n"
     ]
    }
   ],
   "source": [
    "s = input()\n",
    "print(s[:3])"
   ]
  },
  {
   "cell_type": "code",
   "execution_count": null,
   "metadata": {},
   "outputs": [],
   "source": []
  },
  {
   "cell_type": "code",
   "execution_count": 6,
   "metadata": {},
   "outputs": [
    {
     "name": "stdout",
     "output_type": "stream",
     "text": [
      "1 2\n",
      "3 2\n",
      "3\n",
      "NO\n"
     ]
    }
   ],
   "source": [
    "a,v = map(int, input().split())\n",
    "b,w = map(int, input().split())\n",
    "t = int(input())\n",
    "\n",
    "if w>=v:\n",
    "    print('NO')\n",
    "else:\n",
    "    l = abs(a-b)\n",
    "    u = (v-w)*t\n",
    "    if l <= u:\n",
    "        print('YES')\n",
    "    else:\n",
    "        print('NO')"
   ]
  },
  {
   "cell_type": "code",
   "execution_count": null,
   "metadata": {},
   "outputs": [],
   "source": []
  },
  {
   "cell_type": "code",
   "execution_count": 19,
   "metadata": {},
   "outputs": [
    {
     "name": "stdout",
     "output_type": "stream",
     "text": [
      "5 2\n",
      "1 0 0 1 0\n",
      "3 3 4 4 3\n"
     ]
    }
   ],
   "source": [
    "n ,k = map(int, input().split())\n",
    "A = list(_ for _ in map(int, input().split()))\n",
    "for _ in range(k):\n",
    "    B = [0]*n\n",
    "    for i in range(n):\n",
    "        a = A[i]\n",
    "        a_d = i - a\n",
    "        if a_d <0: a_d = 0\n",
    "        a_u = i + a\n",
    "        if a_u > n - 1: a_u = n-1\n",
    "        for s in range(a_d,a_u+1):\n",
    "            B[s] += 1\n",
    "    A = B\n",
    "\n",
    "B=[str(a) for a in B]\n",
    "B=' '.join(B)\n",
    "print(B)"
   ]
  },
  {
   "cell_type": "code",
   "execution_count": 9,
   "metadata": {},
   "outputs": [
    {
     "name": "stdout",
     "output_type": "stream",
     "text": [
      "[0, 0, 0, 0, 0, 0, 0, 0, 0, 0]\n"
     ]
    }
   ],
   "source": [
    "L = [0]*10\n",
    "print(L)"
   ]
  },
  {
   "cell_type": "code",
   "execution_count": 14,
   "metadata": {},
   "outputs": [
    {
     "name": "stdout",
     "output_type": "stream",
     "text": [
      "2\n",
      "3\n"
     ]
    }
   ],
   "source": [
    "L = [0,1,2,3,4]\n",
    "for i in range(2,4):\n",
    "    print(L[i])"
   ]
  },
  {
   "cell_type": "code",
   "execution_count": null,
   "metadata": {},
   "outputs": [],
   "source": []
  }
 ],
 "metadata": {
  "kernelspec": {
   "display_name": "Python 3",
   "language": "python",
   "name": "python3"
  },
  "language_info": {
   "codemirror_mode": {
    "name": "ipython",
    "version": 3
   },
   "file_extension": ".py",
   "mimetype": "text/x-python",
   "name": "python",
   "nbconvert_exporter": "python",
   "pygments_lexer": "ipython3",
   "version": "3.7.6"
  }
 },
 "nbformat": 4,
 "nbformat_minor": 4
}
