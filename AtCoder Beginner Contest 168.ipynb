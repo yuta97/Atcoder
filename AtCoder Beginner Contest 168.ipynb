{
 "cells": [
  {
   "cell_type": "code",
   "execution_count": 1,
   "metadata": {},
   "outputs": [],
   "source": [
    "#AtCoder Beginner Contest 168"
   ]
  },
  {
   "cell_type": "code",
   "execution_count": 2,
   "metadata": {},
   "outputs": [],
   "source": [
    "#1"
   ]
  },
  {
   "cell_type": "code",
   "execution_count": 11,
   "metadata": {},
   "outputs": [
    {
     "name": "stdout",
     "output_type": "stream",
     "text": [
      "183\n",
      "bon\n"
     ]
    }
   ],
   "source": [
    "n = input()\n",
    "n_1 = int(n[-1])\n",
    "if n_1 == 3:\n",
    "    print('bon')\n",
    "elif n_1 == 0 or n_1 == 1 or n_1 == 6 or n_1 == 8:\n",
    "    print('pon')\n",
    "else:\n",
    "    print('hon')"
   ]
  },
  {
   "cell_type": "code",
   "execution_count": 24,
   "metadata": {},
   "outputs": [
    {
     "name": "stdout",
     "output_type": "stream",
     "text": [
      "1110\n",
      "pon\n"
     ]
    }
   ],
   "source": [
    "n = input()\n",
    "n_1 = int(n[-1])\n",
    "if n_1 == 3:\n",
    "    print('bon')\n",
    "elif {n_1} <= {0,1,6,8}:\n",
    "    print('pon')\n",
    "else:\n",
    "    print('hon')"
   ]
  },
  {
   "cell_type": "code",
   "execution_count": 12,
   "metadata": {},
   "outputs": [],
   "source": [
    "#2"
   ]
  },
  {
   "cell_type": "code",
   "execution_count": 16,
   "metadata": {},
   "outputs": [
    {
     "name": "stdout",
     "output_type": "stream",
     "text": [
      "2\n",
      "assafas\n",
      "as...\n"
     ]
    }
   ],
   "source": [
    "k = int(input())\n",
    "s = input()\n",
    "num = len(s)\n",
    "if num <=k:\n",
    "    print(s)\n",
    "else:\n",
    "    print(s[:k]+'...')"
   ]
  },
  {
   "cell_type": "code",
   "execution_count": 17,
   "metadata": {},
   "outputs": [],
   "source": [
    "#3"
   ]
  },
  {
   "cell_type": "code",
   "execution_count": 21,
   "metadata": {},
   "outputs": [
    {
     "name": "stdout",
     "output_type": "stream",
     "text": [
      "3 4 10 40\n",
      "4.564257194330058\n"
     ]
    }
   ],
   "source": [
    "import math\n",
    "a,b,h,m = map(int, input().split())\n",
    "mi = m + h*60 \n",
    "x = 2*math.pi /(12*60)\n",
    "y = 2*math.pi /60\n",
    "an = abs(x-y)*mi\n",
    "c = math.sqrt(a**2 + b**2 - 2*a*b*math.cos(an))\n",
    "print(c)"
   ]
  },
  {
   "cell_type": "code",
   "execution_count": 1,
   "metadata": {},
   "outputs": [],
   "source": [
    "#以降、解説都等を参考に…"
   ]
  },
  {
   "cell_type": "code",
   "execution_count": 7,
   "metadata": {},
   "outputs": [],
   "source": [
    "#4"
   ]
  },
  {
   "cell_type": "code",
   "execution_count": 8,
   "metadata": {},
   "outputs": [
    {
     "data": {
      "application/vnd.jupyter.widget-view+json": {
       "model_id": "dd8d754b2b624088912fbd1d55361331",
       "version_major": 2,
       "version_minor": 0
      },
      "text/plain": [
       "Textarea(value='')"
      ]
     },
     "metadata": {},
     "output_type": "display_data"
    }
   ],
   "source": [
    "from ipywidgets import Textarea\n",
    "\n",
    "def get_input(change):\n",
    "    global Input\n",
    "    Input=change[\"new\"]\n",
    "\n",
    "textarea = Textarea()\n",
    "textarea.observe(get_input, names='value')\n",
    "display(textarea)"
   ]
  },
  {
   "cell_type": "code",
   "execution_count": 34,
   "metadata": {},
   "outputs": [
    {
     "name": "stdout",
     "output_type": "stream",
     "text": [
      "4 41 22 33 44 2\n",
      "4 4\n",
      "[[1, 2], [2, 3], [3, 4], [4, 2]]\n",
      "3\n",
      "6\n",
      "9\n",
      "12\n"
     ]
    }
   ],
   "source": [
    "Input = Input.replace('\\n',' ')\n",
    "print(Input)\n",
    "n,m=map(int,Input[:3].split())\n",
    "print(n,m)\n",
    "ab= [[int(Input[i]),int(Input[i+2])]for i in range(3,3*(m+1),3)]\n",
    "print(ab)"
   ]
  },
  {
   "cell_type": "code",
   "execution_count": 36,
   "metadata": {},
   "outputs": [
    {
     "name": "stdout",
     "output_type": "stream",
     "text": [
      "[0]\n",
      "0\n",
      "[0, 1]\n",
      "1\n",
      "[0, 1, 2, 3]\n",
      "2\n",
      "[0, 1, 2, 3]\n",
      "3\n",
      "Yes\n",
      "1 2 2\n"
     ]
    }
   ],
   "source": [
    "Input.replace('\\n','')\n",
    "n,m=map(int,Input[:3].split())\n",
    "# ab=[list(map(int,Input.split()))for i in range(m)]\n",
    "ab= [[int(Input[i]),int(Input[i+2])]for i in range(3,3*(m+1),3)]\n",
    "ans=[0]*n\n",
    "edge=[[]for _ in range(n)]\n",
    "for a,b in ab:\n",
    "  edge[a-1].append(b-1)\n",
    "  edge[b-1].append(a-1)\n",
    "visited={0}\n",
    "stack=[0]\n",
    "for i in stack:\n",
    "    print(stack)\n",
    "    print(i)\n",
    "    for j in edge[i]:\n",
    "        if j in visited:continue\n",
    "        stack.append(j)\n",
    "        visited.add(j)\n",
    "        ans[j]=i+1\n",
    "print(\"Yes\")\n",
    "print(*ans[1:])"
   ]
  },
  {
   "cell_type": "code",
   "execution_count": 11,
   "metadata": {},
   "outputs": [
    {
     "name": "stdout",
     "output_type": "stream",
     "text": [
      "4 4\n",
      "1 2\n",
      "2 3\n",
      "3 4\n",
      "4 2\n",
      "Yes\n",
      "1\n",
      "2\n",
      "2\n"
     ]
    }
   ],
   "source": [
    "n, m = map(int, input().split())\n",
    "ab=[list(map(int,input().split())) for _ in range(m)]\n",
    "ans = [-1 for _ in range(n)]\n",
    "ans[0] = 0\n",
    "tree=[[]for _ in range(n)]\n",
    "for a,b in ab:\n",
    "    tree[a-1].append(b-1)\n",
    "    tree[b-1].append(a-1)\n",
    "visited={0}\n",
    "q=[0] # キュー\n",
    "for i in q:\n",
    "    for j in tree[i]:\n",
    "        if ans[j] < 0:\n",
    "            q.append(j)\n",
    "            ans[j]=i+1\n",
    "print(\"Yes\")\n",
    "for i in ans[1:]:\n",
    "    print(i)"
   ]
  },
  {
   "cell_type": "code",
   "execution_count": 5,
   "metadata": {},
   "outputs": [
    {
     "name": "stdout",
     "output_type": "stream",
     "text": [
      "4 4\n",
      "1 2\n",
      "2 3\n",
      "3 4\n",
      "4 2\n",
      "Yes\n",
      "1\n",
      "2\n",
      "2\n"
     ]
    }
   ],
   "source": [
    "from collections import deque\n",
    "\n",
    "n, m = map(int, input().split())\n",
    "ab = [list(map(int, input().split())) for _ in range(m)] #Ex.ab = [[A1,B1],[A2,B2],…[]]\n",
    " \n",
    "ans = [-1 for _ in range(n)] # 道標を記録。最後にこれを出力。\n",
    "ans[0] = 0\n",
    "tree = [[] for _ in range(n)] # 部屋間のつながりを記録\n",
    "for a, b in ab:\n",
    "    tree[a-1].append(b-1)\n",
    "    tree[b-1].append(a-1)\n",
    "#　Ex.　tree = [[2,4][3]…[]]\n",
    "\n",
    "q = deque([0]) #キュー。次に探索する部屋を記録していく。最初は0が格納。\n",
    "while q: #キューが空になれば終了。\n",
    "    p = q.popleft() #キューなので左から取り出す。\n",
    "    for i in tree[p]:\n",
    "        if ans[i] < 0: # visit[i] >= 0なら既に探索しているので無視。\n",
    "            ans[i] = p\n",
    "            q.append(i) #新たにキューに加える。\n",
    "\n",
    "print(\"Yes\")\n",
    "for i in ans[1:]:\n",
    "    print(i+1)"
   ]
  }
 ],
 "metadata": {
  "kernelspec": {
   "display_name": "Python 3",
   "language": "python",
   "name": "python3"
  },
  "language_info": {
   "codemirror_mode": {
    "name": "ipython",
    "version": 3
   },
   "file_extension": ".py",
   "mimetype": "text/x-python",
   "name": "python",
   "nbconvert_exporter": "python",
   "pygments_lexer": "ipython3",
   "version": "3.7.6"
  }
 },
 "nbformat": 4,
 "nbformat_minor": 4
}
