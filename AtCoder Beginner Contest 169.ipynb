{
 "cells": [
  {
   "cell_type": "code",
   "execution_count": 1,
   "metadata": {},
   "outputs": [],
   "source": [
    "#1"
   ]
  },
  {
   "cell_type": "code",
   "execution_count": 2,
   "metadata": {},
   "outputs": [
    {
     "name": "stdout",
     "output_type": "stream",
     "text": [
      "2 5\n",
      "10\n"
     ]
    }
   ],
   "source": [
    "a,b = map(int, input().split())\n",
    "print(a*b)"
   ]
  },
  {
   "cell_type": "code",
   "execution_count": 3,
   "metadata": {},
   "outputs": [],
   "source": [
    "#2"
   ]
  },
  {
   "cell_type": "code",
   "execution_count": 2,
   "metadata": {},
   "outputs": [
    {
     "name": "stdout",
     "output_type": "stream",
     "text": [
      "31\n",
      "4 1 5 9 2 6 5 3 5 8 9 7 9 3 2 3 8 4 6 2 6 4 3 3 8 3 2 7 9 5 0\n",
      "0\n"
     ]
    }
   ],
   "source": [
    "n = int(input())\n",
    "A = list(map(int,input().split()))\n",
    "num = 1\n",
    "flag = True\n",
    "if A.count(0)>=1: #どこかに０があるなら掛け算しても０\n",
    "    print(0)\n",
    "else:\n",
    "    for i in A:\n",
    "        num *= i\n",
    "        if num > pow(10,18): #途中で制限超えたら以降は計算しない。\n",
    "            print(-1)\n",
    "            flag =False\n",
    "            break\n",
    "\n",
    "    if flag:\n",
    "        print(num)"
   ]
  },
  {
   "cell_type": "code",
   "execution_count": 10,
   "metadata": {},
   "outputs": [
    {
     "name": "stdout",
     "output_type": "stream",
     "text": [
      "31\n",
      "4 1 5 9 2 6 5 3 5 8 9 7 9 3 2 3 8 4 6 2 6 4 3 3 8 3 2 7 9 5 0\n",
      "0\n"
     ]
    }
   ],
   "source": [
    "import math\n",
    "import decimal\n",
    " \n",
    "a,b = input().split()\n",
    "a = int(a)\n",
    "b = decimal.Decimal(b)\n",
    "print(math.floor(a*b))"
   ]
  },
  {
   "cell_type": "code",
   "execution_count": 3,
   "metadata": {},
   "outputs": [],
   "source": [
    "#3"
   ]
  },
  {
   "cell_type": "code",
   "execution_count": 37,
   "metadata": {},
   "outputs": [
    {
     "name": "stdout",
     "output_type": "stream",
     "text": [
      "198 1.10\n",
      "217\n"
     ]
    }
   ],
   "source": [
    "import math\n",
    "import decimal\n",
    "\n",
    "a,b = input().split()\n",
    "a = int(a)\n",
    "b = decimal.Decimal(b)\n",
    "print(math.floor(a*b))"
   ]
  },
  {
   "cell_type": "code",
   "execution_count": 31,
   "metadata": {},
   "outputs": [
    {
     "name": "stdout",
     "output_type": "stream",
     "text": [
      "997764507000\n",
      "7\n"
     ]
    }
   ],
   "source": [
    "import collections\n",
    "\n",
    "def prime_factorize(n):\n",
    "    a = []\n",
    "    while n % 2 == 0:\n",
    "        a.append(2)\n",
    "        n //= 2\n",
    "    f = 3\n",
    "    while f * f <= n:\n",
    "        if n % f == 0:\n",
    "            a.append(f)\n",
    "            n //= f\n",
    "        else:\n",
    "            f += 2\n",
    "    if n != 1:\n",
    "        a.append(n)\n",
    "    return a\n",
    "\n",
    "n = int(input())\n",
    "a = prime_factorize(n)\n",
    "c = collections.Counter(a)\n",
    "num = 0\n",
    "for v in c.values():\n",
    "    for i in range(1,n):\n",
    "        v -= i\n",
    "        if v >=0:\n",
    "            num +=1\n",
    "        else:break\n",
    "\n",
    "print(num)"
   ]
  },
  {
   "cell_type": "code",
   "execution_count": 1,
   "metadata": {},
   "outputs": [],
   "source": [
    "#E"
   ]
  },
  {
   "cell_type": "code",
   "execution_count": 9,
   "metadata": {},
   "outputs": [
    {
     "name": "stdout",
     "output_type": "stream",
     "text": [
      "3\n",
      "100 100\n",
      "10 10000\n",
      "1 1000000000\n",
      "9991\n"
     ]
    }
   ],
   "source": [
    "import statistics\n",
    "import math\n",
    "\n",
    "n = int(input())\n",
    "A = []\n",
    "B = []\n",
    "for _ in range(n):\n",
    "    a, b = map(int,input().split())\n",
    "    A.append(a)\n",
    "    B.append(b)\n",
    "\n",
    "A_m = statistics.median(A)\n",
    "B_m = statistics.median(B)\n",
    "if n%2 == 1:\n",
    "    num = B_m - A_m +1\n",
    "elif n %2 ==0:\n",
    "    num = 2*B_m - 2*A_m +1\n",
    "print(int(num))"
   ]
  },
  {
   "cell_type": "code",
   "execution_count": 11,
   "metadata": {},
   "outputs": [],
   "source": [
    "#F"
   ]
  },
  {
   "cell_type": "code",
   "execution_count": 14,
   "metadata": {},
   "outputs": [
    {
     "name": "stdout",
     "output_type": "stream",
     "text": [
      "3 4\n",
      "2 2 4\n",
      "[[1, 0, 0, 0, 0], [2, 0, 1, 0, 0], [0, 0, 0, 0, 0], [0, 0, 0, 0, 0]]\n",
      "[[1, 0, 0, 0, 0], [2, 0, 1, 0, 0], [0, 0, 0, 0, 0], [0, 0, 0, 0, 0]]\n",
      "[[1, 0, 0, 0, 0], [2, 0, 1, 0, 0], [0, 0, 0, 0, 0], [0, 0, 0, 0, 0]]\n",
      "[[1, 0, 0, 0, 0], [2, 0, 1, 0, 0], [0, 0, 0, 0, 0], [0, 0, 0, 0, 0]]\n",
      "[[1, 0, 0, 0, 0], [2, 0, 1, 0, 0], [0, 0, 0, 0, 0], [0, 0, 0, 0, 0]]\n",
      "[[1, 0, 0, 0, 0], [2, 0, 1, 0, 0], [4, 0, 2, 0, 0], [0, 0, 0, 0, 0]]\n",
      "[[1, 0, 0, 0, 0], [2, 0, 1, 0, 0], [4, 0, 2, 0, 0], [0, 0, 0, 0, 0]]\n",
      "[[1, 0, 0, 0, 0], [2, 0, 1, 0, 0], [4, 0, 4, 0, 1], [0, 0, 0, 0, 0]]\n",
      "[[1, 0, 0, 0, 0], [2, 0, 1, 0, 0], [4, 0, 4, 0, 1], [0, 0, 0, 0, 0]]\n",
      "[[1, 0, 0, 0, 0], [2, 0, 1, 0, 0], [4, 0, 4, 0, 1], [0, 0, 0, 0, 0]]\n",
      "[[1, 0, 0, 0, 0], [2, 0, 1, 0, 0], [4, 0, 4, 0, 1], [8, 0, 0, 0, 4]]\n",
      "[[1, 0, 0, 0, 0], [2, 0, 1, 0, 0], [4, 0, 4, 0, 1], [8, 0, 0, 0, 4]]\n",
      "[[1, 0, 0, 0, 0], [2, 0, 1, 0, 0], [4, 0, 4, 0, 1], [8, 0, 8, 0, 4]]\n",
      "[[1, 0, 0, 0, 0], [2, 0, 1, 0, 0], [4, 0, 4, 0, 1], [8, 0, 8, 0, 4]]\n",
      "[[1, 0, 0, 0, 0], [2, 0, 1, 0, 0], [4, 0, 4, 0, 1], [8, 0, 8, 0, 6]]\n",
      "6\n"
     ]
    }
   ],
   "source": [
    "N, S = map(int,input().split())\n",
    "A = list(map(int,input().split()))\n",
    "mod = 998244353\n",
    "dp = [[0 for j in range(S + 1)] for i in range(N + 1)]\n",
    "dp[0][0] = 1\n",
    "for i in range(N) : \n",
    "    for j in range(S + 1) : \n",
    "        dp[i + 1][j] += 2 * dp[i][j]\n",
    "        dp[i + 1][j] %= mod \n",
    "        if j + A[i] <= S : \n",
    "            dp[i + 1][j + A[i]] += dp[i][j]\n",
    "            dp[i + 1][j + A[i]] %= mod\n",
    "        print(dp)\n",
    "print(dp[N][S])"
   ]
  },
  {
   "cell_type": "code",
   "execution_count": null,
   "metadata": {},
   "outputs": [],
   "source": []
  }
 ],
 "metadata": {
  "kernelspec": {
   "display_name": "Python 3",
   "language": "python",
   "name": "python3"
  },
  "language_info": {
   "codemirror_mode": {
    "name": "ipython",
    "version": 3
   },
   "file_extension": ".py",
   "mimetype": "text/x-python",
   "name": "python",
   "nbconvert_exporter": "python",
   "pygments_lexer": "ipython3",
   "version": "3.7.6"
  }
 },
 "nbformat": 4,
 "nbformat_minor": 4
}
