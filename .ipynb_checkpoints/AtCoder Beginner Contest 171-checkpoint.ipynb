{
 "cells": [
  {
   "cell_type": "code",
   "execution_count": 1,
   "metadata": {},
   "outputs": [],
   "source": [
    "#1"
   ]
  },
  {
   "cell_type": "code",
   "execution_count": 4,
   "metadata": {},
   "outputs": [
    {
     "name": "stdin",
     "output_type": "stream",
     "text": [
      " A\n"
     ]
    },
    {
     "name": "stdout",
     "output_type": "stream",
     "text": [
      "A\n"
     ]
    }
   ],
   "source": [
    "word = input()\n",
    "if word.islower():\n",
    "    print('a')\n",
    "else:\n",
    "    print('A')"
   ]
  },
  {
   "cell_type": "code",
   "execution_count": 5,
   "metadata": {},
   "outputs": [],
   "source": [
    "#2"
   ]
  },
  {
   "cell_type": "code",
   "execution_count": 7,
   "metadata": {},
   "outputs": [
    {
     "name": "stdin",
     "output_type": "stream",
     "text": [
      " 1 1\n",
      " 1000\n"
     ]
    },
    {
     "name": "stdout",
     "output_type": "stream",
     "text": [
      "1000\n"
     ]
    }
   ],
   "source": [
    "n,k = map(int,input().split())\n",
    "L = list(map(int,input().split()))\n",
    "L = sorted(L)\n",
    "\n",
    "print(sum(L[:k]))"
   ]
  },
  {
   "cell_type": "code",
   "execution_count": 8,
   "metadata": {},
   "outputs": [],
   "source": [
    "#3"
   ]
  },
  {
   "cell_type": "code",
   "execution_count": 61,
   "metadata": {},
   "outputs": [
    {
     "name": "stdin",
     "output_type": "stream",
     "text": [
      " 1000000000000001\n"
     ]
    },
    {
     "name": "stdout",
     "output_type": "stream",
     "text": [
      "gbdpxgrzxjm\n"
     ]
    }
   ],
   "source": [
    "n = int(input())\n",
    "A =[chr(i) for i in range(97, 97+26)]\n",
    "for i in range(1,1000):\n",
    "    if n <= (26 ** i):\n",
    "        if i == 1:\n",
    "            print(A[n-1])\n",
    "        else:\n",
    "            answer = ''\n",
    "            for u in range(i-1,0,-1):\n",
    "                q, mod = divmod(n, (26**u))\n",
    "            \n",
    "                answer = answer+A[q]\n",
    "                n = mod\n",
    "            answer = answer+A[n-1]\n",
    "            print(answer)\n",
    "        break\n",
    "    else:\n",
    "        n -= (26 ** i)"
   ]
  }
 ],
 "metadata": {
  "kernelspec": {
   "display_name": "Python 3",
   "language": "python",
   "name": "python3"
  },
  "language_info": {
   "codemirror_mode": {
    "name": "ipython",
    "version": 3
   },
   "file_extension": ".py",
   "mimetype": "text/x-python",
   "name": "python",
   "nbconvert_exporter": "python",
   "pygments_lexer": "ipython3",
   "version": "3.7.4"
  }
 },
 "nbformat": 4,
 "nbformat_minor": 4
}
