{
 "cells": [
  {
   "cell_type": "code",
   "execution_count": 6,
   "metadata": {},
   "outputs": [
    {
     "name": "stdout",
     "output_type": "stream",
     "text": [
      "sdsc\n",
      "asddasda\n",
      "asddasd\n"
     ]
    }
   ],
   "source": [
    "# A\n",
    "S = input()\n",
    "T_l = [i for i in input()]\n",
    "T_x = ''.join(T_l[0:-1])\n",
    "if S==T_x:\n",
    "    print('Yes')\n",
    "else:\n",
    "    print('No')"
   ]
  },
  {
   "cell_type": "code",
   "execution_count": 1,
   "metadata": {},
   "outputs": [
    {
     "data": {
      "application/vnd.jupyter.widget-view+json": {
       "model_id": "5c25d11a3fbd4efc92d136be699c86c2",
       "version_major": 2,
       "version_minor": 0
      },
      "text/plain": [
       "Textarea(value='')"
      ]
     },
     "metadata": {},
     "output_type": "display_data"
    }
   ],
   "source": [
    "from ipywidgets import Textarea\n",
    "\n",
    "def get_input(change):\n",
    "    global Input\n",
    "    Input=change[\"new\"]\n",
    "\n",
    "textarea = Textarea()\n",
    "textarea.observe(get_input, names='value')\n",
    "display(textarea)\n"
   ]
  },
  {
   "cell_type": "code",
   "execution_count": 2,
   "metadata": {},
   "outputs": [
    {
     "name": "stdout",
     "output_type": "stream",
     "text": [
      "3 ['3', '10', '100', '3', '1', '4', '100', '1', '5', '9', '100', '2', '6', '5']\n"
     ]
    }
   ],
   "source": [
    "#jupyterの別枠で\n",
    "\n",
    "n,*a=Input.split()\n",
    "print(n,a)"
   ]
  },
  {
   "cell_type": "code",
   "execution_count": 11,
   "metadata": {},
   "outputs": [
    {
     "name": "stdout",
     "output_type": "stream",
     "text": [
      "2000000000 0 0 2000000000\n",
      "2000000000\n"
     ]
    }
   ],
   "source": [
    "# B\n",
    "A,B,C,K = map(int,input().split())\n",
    "if K<=A:\n",
    "    print(K)\n",
    "else:\n",
    "    if K<= A+B:\n",
    "        print(A)\n",
    "    else:\n",
    "        print(A-(K-(A+B)))"
   ]
  },
  {
   "cell_type": "code",
   "execution_count": null,
   "metadata": {},
   "outputs": [],
   "source": [
    "# C\n",
    "N,M,X = map(int,input().split())\n",
    "C = [list(map(int, input().split())) for _ in range(N)]\n",
    "Y = [0]*M\n",
    "S = 0 #値段の合計\n",
    "for c in C:\n",
    "    Y += c[1:]\n",
    "    S += c[0]\n",
    "if min(Y)<X:\n",
    "    print(-1)\n"
   ]
  },
  {
   "cell_type": "code",
   "execution_count": null,
   "metadata": {},
   "outputs": [],
   "source": [
    "#C　学習\n",
    "n,m,x = map(int,input().split())\n",
    "l = [list(map(int,input().split())) for i in range(n)]\n",
    " \n",
    "ans = float(\"INF\")\n",
    " \n",
    "for i in range(2**n):\n",
    "    count = [0]*m\n",
    "    c = 0\n",
    "    for j in range(n):\n",
    "        if (i >> j) & 1:\n",
    "            c += l[j][0]\n",
    "            for k in range(1,m+1):\n",
    "                count[k-1] += l[j][k]\n",
    "    check = True\n",
    "    for j in count:\n",
    "        if j < x:\n",
    "            check = False\n",
    "            break\n",
    "    if check:\n",
    "        ans = min(ans,c)\n",
    "if ans == 0:\n",
    "    print(-1)\n",
    "else:\n",
    "    print(ans)"
   ]
  },
  {
   "cell_type": "code",
   "execution_count": 24,
   "metadata": {},
   "outputs": [
    {
     "name": "stdout",
     "output_type": "stream",
     "text": [
      "6 727202214173249351\n",
      "6 5 2 5 3 2\n",
      "2\n"
     ]
    }
   ],
   "source": [
    "# D\n",
    "N,K = map(int,input().split())\n",
    "A = [0]+list(map(int,input().split()))\n",
    "i = 1\n",
    "X = []\n",
    "flag = True\n",
    "for _ in range(K):\n",
    "    X.append(i)\n",
    "    if X.count(i)>1:\n",
    "        flag=False\n",
    "        break\n",
    "    i = A[i]\n",
    "    \n",
    "if flag:\n",
    "    print(i)\n",
    "else:\n",
    "    u = X.index(i)\n",
    "    v = len(X)-1\n",
    "    y = v - u\n",
    "    m =  (K-u)%y\n",
    "    print(X[u+m])"
   ]
  },
  {
   "cell_type": "code",
   "execution_count": null,
   "metadata": {},
   "outputs": [],
   "source": [
    "#D'\n",
    "def solve(N,K,A):\n",
    "    visited = [None]*N\n",
    "    cur = 0\n",
    "    for i in range(K):\n",
    "        if visited[cur] is None:\n",
    "            visited[cur] = i\n",
    "            cur = A[cur]-1\n",
    "        else:\n",
    "            break\n",
    "    else:\n",
    "        print(cur+1)\n",
    "        return\n",
    " \n",
    "    K -= i\n",
    "    K %= i-visited[cur]\n",
    " \n",
    "    for i in range(K):\n",
    "        cur = A[cur]-1\n",
    " \n",
    "    print(cur+1)\n",
    " \n",
    " \n",
    "N,K = map(int,input().split())\n",
    "A = tuple(map(int,input().split()))\n",
    " \n",
    "solve(N,K,A)"
   ]
  }
 ],
 "metadata": {
  "kernelspec": {
   "display_name": "Python 3",
   "language": "python",
   "name": "python3"
  },
  "language_info": {
   "codemirror_mode": {
    "name": "ipython",
    "version": 3
   },
   "file_extension": ".py",
   "mimetype": "text/x-python",
   "name": "python",
   "nbconvert_exporter": "python",
   "pygments_lexer": "ipython3",
   "version": "3.7.6"
  }
 },
 "nbformat": 4,
 "nbformat_minor": 4
}
