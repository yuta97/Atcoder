{
 "cells": [
  {
   "cell_type": "code",
   "execution_count": 1,
   "metadata": {},
   "outputs": [],
   "source": [
    "#AtCoder Beginner Contest 168"
   ]
  },
  {
   "cell_type": "code",
   "execution_count": 2,
   "metadata": {},
   "outputs": [],
   "source": [
    "#1"
   ]
  },
  {
   "cell_type": "code",
   "execution_count": 11,
   "metadata": {},
   "outputs": [
    {
     "name": "stdout",
     "output_type": "stream",
     "text": [
      "183\n",
      "bon\n"
     ]
    }
   ],
   "source": [
    "n = input()\n",
    "n_1 = int(n[-1])\n",
    "if n_1 == 3:\n",
    "    print('bon')\n",
    "elif n_1 == 0 or n_1 == 1 or n_1 == 6 or n_1 == 8:\n",
    "    print('pon')\n",
    "else:\n",
    "    print('hon')"
   ]
  },
  {
   "cell_type": "code",
   "execution_count": 24,
   "metadata": {},
   "outputs": [
    {
     "name": "stdout",
     "output_type": "stream",
     "text": [
      "1110\n",
      "pon\n"
     ]
    }
   ],
   "source": [
    "n = input()\n",
    "n_1 = int(n[-1])\n",
    "if n_1 == 3:\n",
    "    print('bon')\n",
    "elif {n_1} <= {0,1,6,8}:\n",
    "    print('pon')\n",
    "else:\n",
    "    print('hon')"
   ]
  },
  {
   "cell_type": "code",
   "execution_count": 12,
   "metadata": {},
   "outputs": [],
   "source": [
    "#2"
   ]
  },
  {
   "cell_type": "code",
   "execution_count": 16,
   "metadata": {},
   "outputs": [
    {
     "name": "stdout",
     "output_type": "stream",
     "text": [
      "2\n",
      "assafas\n",
      "as...\n"
     ]
    }
   ],
   "source": [
    "k = int(input())\n",
    "s = input()\n",
    "num = len(s)\n",
    "if num <=k:\n",
    "    print(s)\n",
    "else:\n",
    "    print(s[:k]+'...')"
   ]
  },
  {
   "cell_type": "code",
   "execution_count": 17,
   "metadata": {},
   "outputs": [],
   "source": [
    "#3"
   ]
  },
  {
   "cell_type": "code",
   "execution_count": 21,
   "metadata": {},
   "outputs": [
    {
     "name": "stdout",
     "output_type": "stream",
     "text": [
      "3 4 10 40\n",
      "4.564257194330058\n"
     ]
    }
   ],
   "source": [
    "import math\n",
    "a,b,h,m = map(int, input().split())\n",
    "mi = m + h*60 \n",
    "x = 2*math.pi /(12*60)\n",
    "y = 2*math.pi /60\n",
    "an = abs(x-y)*mi\n",
    "c = math.sqrt(a**2 + b**2 - 2*a*b*math.cos(an))\n",
    "print(c)"
   ]
  },
  {
   "cell_type": "code",
   "execution_count": null,
   "metadata": {},
   "outputs": [],
   "source": []
  }
 ],
 "metadata": {
  "kernelspec": {
   "display_name": "Python 3",
   "language": "python",
   "name": "python3"
  },
  "language_info": {
   "codemirror_mode": {
    "name": "ipython",
    "version": 3
   },
   "file_extension": ".py",
   "mimetype": "text/x-python",
   "name": "python",
   "nbconvert_exporter": "python",
   "pygments_lexer": "ipython3",
   "version": "3.7.6"
  }
 },
 "nbformat": 4,
 "nbformat_minor": 4
}
