{
 "cells": [
  {
   "cell_type": "code",
   "execution_count": 1,
   "metadata": {},
   "outputs": [],
   "source": [
    "#1"
   ]
  },
  {
   "cell_type": "code",
   "execution_count": 4,
   "metadata": {},
   "outputs": [
    {
     "name": "stdout",
     "output_type": "stream",
     "text": [
      "1 2 3 4 4\n",
      "118\n"
     ]
    }
   ],
   "source": [
    "h1,m1,h2,m2,k = map(int,input().split())\n",
    "time = (h2*60 + m2) - (h1*60 + m1) -k\n",
    "print(time)"
   ]
  },
  {
   "cell_type": "code",
   "execution_count": 5,
   "metadata": {},
   "outputs": [],
   "source": [
    "#2"
   ]
  },
  {
   "cell_type": "code",
   "execution_count": 6,
   "metadata": {},
   "outputs": [
    {
     "name": "stdout",
     "output_type": "stream",
     "text": [
      "PD?D??P\n",
      "PDDDDDP\n"
     ]
    }
   ],
   "source": [
    "t = input()\n",
    "print(t.replace('?','D'))"
   ]
  },
  {
   "cell_type": "code",
   "execution_count": 7,
   "metadata": {},
   "outputs": [],
   "source": [
    "#3"
   ]
  },
  {
   "cell_type": "code",
   "execution_count": 19,
   "metadata": {},
   "outputs": [
    {
     "name": "stdout",
     "output_type": "stream",
     "text": [
      "0\n",
      "1\n",
      "1\n"
     ]
    }
   ],
   "source": [
    "n = int(input())\n",
    "A = list(map(int,input().split()))\n",
    "H = [0]*(n+1)\n",
    "s = sum(A)\n",
    "flag= True\n",
    "if n==0:\n",
    "    if A[0] ==1:\n",
    "        print(1)\n",
    "    else:\n",
    "        print(-1)\n",
    "else:\n",
    "    if A[0]>= 1:\n",
    "        print(-1)\n",
    "        flag = False\n",
    "    else:\n",
    "            H[0] =1\n",
    "            i = 1\n",
    "            while i <=n:\n",
    "                if A[i] > H[i-1]*2:\n",
    "                    print(-1)\n",
    "                    flag =False\n",
    "                    break\n",
    "                else:\n",
    "                    if s >=2*(H[i-1]-A[i-1]):\n",
    "                        H[i] = 2*(H[i-1]-A[i-1])\n",
    "                    else:\n",
    "                        H[i] = s\n",
    "            \n",
    "                    s -= A[i]\n",
    "                    i +=1\n",
    "    if flag:\n",
    "        print(sum(H))"
   ]
  },
  {
   "cell_type": "code",
   "execution_count": 20,
   "metadata": {},
   "outputs": [],
   "source": [
    "#D"
   ]
  },
  {
   "cell_type": "code",
   "execution_count": 37,
   "metadata": {},
   "outputs": [
    {
     "name": "stdout",
     "output_type": "stream",
     "text": [
      "4\n",
      "2 1 -1 3\n",
      "[[2, 1, 1, 2, 3, 4], [2, 1, 1, 2, 3, 4], [2, 1, 1, 2, 3, 4], [2, 1, 1, 2, 3, 4]]\n"
     ]
    }
   ],
   "source": [
    "n = int(input())\n",
    "P = list(map(int, input().split()))\n",
    "R = [[]]*n\n",
    "i = 0\n",
    "while i<n:\n",
    "    if not P[i] ==-1:\n",
    "        R[i].append(P[i])\n",
    "        R[P[i]-1].append(i+1)\n",
    "    i +=1\n",
    "print(R)    "
   ]
  },
  {
   "cell_type": "code",
   "execution_count": 1,
   "metadata": {},
   "outputs": [],
   "source": [
    "#D copy"
   ]
  },
  {
   "cell_type": "code",
   "execution_count": 2,
   "metadata": {},
   "outputs": [
    {
     "name": "stdout",
     "output_type": "stream",
     "text": [
      "1\n",
      "1\n",
      "0\n"
     ]
    }
   ],
   "source": [
    "import numpy as np\n",
    "\n",
    "\n",
    "class UnionFind:\n",
    "    def __init__(self, n):\n",
    "        self.table = [-1] * n\n",
    "\n",
    "    def _root(self, x):\n",
    "        stack = []\n",
    "        tbl = self.table\n",
    "        while tbl[x] >= 0:\n",
    "            stack.append(x)\n",
    "            x = tbl[x]\n",
    "        for y in stack:\n",
    "            tbl[y] = x\n",
    "        return x\n",
    "\n",
    "    def find(self, x, y):\n",
    "        return self._root(x) == self._root(y)\n",
    "\n",
    "    def unite(self, x, y):\n",
    "        r1 = self._root(x)\n",
    "        r2 = self._root(y)\n",
    "        if r1 == r2:\n",
    "            return\n",
    "        d1 = self.table[r1]\n",
    "        d2 = self.table[r2]\n",
    "        if d1 <= d2:\n",
    "            self.table[r2] = r1\n",
    "            self.table[r1] += d2\n",
    "        else:\n",
    "            self.table[r1] = r2\n",
    "            self.table[r2] += d1\n",
    "\n",
    "    def get_size(self, x):\n",
    "        return -self.table[self._root(x)]\n",
    "\n",
    "\n",
    "n = int(input())\n",
    "ppp = list(map(int, input().split()))\n",
    "MOD = 10 ** 9 + 7\n",
    "uft = UnionFind(n)\n",
    "base = 0\n",
    "undefined = []\n",
    "for i, p in enumerate(ppp):\n",
    "    if p == -1:\n",
    "        undefined.append(i)\n",
    "        continue\n",
    "    p -= 1\n",
    "    if not uft.find(i, p):\n",
    "        base += 1\n",
    "        uft.unite(i, p)\n",
    "\n",
    "if len(undefined) == 0:\n",
    "    print(base % MOD)\n",
    "    exit()\n",
    "elif len(undefined) == 1:\n",
    "    c = uft.get_size(undefined[0])\n",
    "    others = n - c\n",
    "    print((base * (n - 1) + others) % MOD)\n",
    "    exit()\n",
    "\n",
    "m = len(undefined)\n",
    "dp = np.zeros(m + 1, dtype=np.int64)  # 閉路のパターン数\n",
    "dp[0] = 1\n",
    "additional = 0  # 閉路を考慮せずに追加される辺数\n",
    "\n",
    "for i in undefined:\n",
    "    c = uft.get_size(i)\n",
    "    dp[1:] += dp[:-1] * c\n",
    "    dp %= MOD\n",
    "    additional += n - c\n",
    "dp = dp.tolist()\n",
    "\n",
    "duplicated = 0\n",
    "pat = pow(n - 1, m, MOD)\n",
    "inv = pow(n - 1, MOD - 2, MOD)\n",
    "loop_permutation = 1\n",
    "loop_other_pattern = pat * inv * inv % MOD\n",
    "for loop_size in range(2, m + 1):\n",
    "    duplicated = (duplicated + dp[loop_size] * loop_permutation * loop_other_pattern) % MOD\n",
    "    loop_other_pattern = loop_other_pattern * inv % MOD\n",
    "    loop_permutation = loop_permutation * loop_size % MOD\n",
    "\n",
    "ans = (base * pat + additional * pat * inv - duplicated) % MOD\n",
    "\n",
    "# print(ans)"
   ]
  },
  {
   "cell_type": "code",
   "execution_count": 5,
   "metadata": {},
   "outputs": [
    {
     "name": "stdout",
     "output_type": "stream",
     "text": [
      "[-1, -1, -1, -1, -1, -1]\n"
     ]
    }
   ],
   "source": [
    "import numpy as np\n",
    "\n",
    "\n",
    "class UnionFind:\n",
    "    def __init__(self, n):\n",
    "        self.table = [-1] * n\n",
    "\n",
    "    def _root(self, x):\n",
    "        stack = []\n",
    "        tbl = self.table\n",
    "        while tbl[x] >= 0:\n",
    "            stack.append(x)\n",
    "            x = tbl[x]\n",
    "        for y in stack:\n",
    "            tbl[y] = x\n",
    "        return x\n",
    "\n",
    "    def find(self, x, y):\n",
    "        return self._root(x) == self._root(y)\n",
    "\n",
    "    def unite(self, x, y):\n",
    "        r1 = self._root(x)\n",
    "        r2 = self._root(y)\n",
    "        if r1 == r2:\n",
    "            return\n",
    "        d1 = self.table[r1]\n",
    "        d2 = self.table[r2]\n",
    "        if d1 <= d2:\n",
    "            self.table[r2] = r1\n",
    "            self.table[r1] += d2\n",
    "        else:\n",
    "            self.table[r1] = r2\n",
    "            self.table[r2] += d1\n",
    "\n",
    "    def get_size(self, x):\n",
    "        return -self.table[self._root(x)]\n",
    "\n",
    "uft = UnionFind(6)\n",
    "print(uft.table)"
   ]
  },
  {
   "cell_type": "code",
   "execution_count": 7,
   "metadata": {},
   "outputs": [
    {
     "name": "stdout",
     "output_type": "stream",
     "text": [
      "[0 0 0 0 0]\n"
     ]
    }
   ],
   "source": [
    "dp = np.zeros(5, dtype=np.int64)  # 閉路のパターン数\n",
    "print(dp)"
   ]
  },
  {
   "cell_type": "code",
   "execution_count": null,
   "metadata": {},
   "outputs": [],
   "source": []
  }
 ],
 "metadata": {
  "kernelspec": {
   "display_name": "Python 3",
   "language": "python",
   "name": "python3"
  },
  "language_info": {
   "codemirror_mode": {
    "name": "ipython",
    "version": 3
   },
   "file_extension": ".py",
   "mimetype": "text/x-python",
   "name": "python",
   "nbconvert_exporter": "python",
   "pygments_lexer": "ipython3",
   "version": "3.7.6"
  }
 },
 "nbformat": 4,
 "nbformat_minor": 4
}
